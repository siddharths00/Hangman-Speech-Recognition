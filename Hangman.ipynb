{
 "cells": [
  {
   "cell_type": "markdown",
   "metadata": {},
   "source": [
    "# THE HANGMAN GAME"
   ]
  },
  {
   "cell_type": "markdown",
   "metadata": {},
   "source": [
    "## Instructions(Read the notebook before executing)"
   ]
  },
  {
   "cell_type": "markdown",
   "metadata": {},
   "source": [
    " ### This is the famous hangman game with a small twist. The original hangman game was as follows: "
   ]
  },
  {
   "cell_type": "markdown",
   "metadata": {},
   "source": [
    "### 1. The admin gives the player a series of dashes which represent a simple word or a phrase. "
   ]
  },
  {
   "cell_type": "markdown",
   "metadata": {},
   "source": [
    "### 2. The player would have 3-4 chances to guess the word/phrase letter-by-letter. "
   ]
  },
  {
   "cell_type": "markdown",
   "metadata": {},
   "source": [
    "### 3. They would win if they are able to guess correctly and lose if they can't."
   ]
  },
  {
   "cell_type": "markdown",
   "metadata": {},
   "source": [
    "### The only difference between the original game and this one is that in this game, you can throw your keyboard out of the window because we are going to play the game using your voice only. How, you ask? Just say a word which starts with the letter you want to guess(More on that further)!!"
   ]
  },
  {
   "cell_type": "code",
   "execution_count": 1,
   "metadata": {},
   "outputs": [
    {
     "data": {
      "text/plain": [
       "'3.8.1'"
      ]
     },
     "execution_count": 1,
     "metadata": {},
     "output_type": "execute_result"
    }
   ],
   "source": [
    "import speech_recognition as sr\n",
    "sr.__version__\n",
    "# For understanding what the user is trying to say."
   ]
  },
  {
   "cell_type": "code",
   "execution_count": null,
   "metadata": {},
   "outputs": [],
   "source": [
    "import time\n",
    "# Since this is a game, I have included pauses here and there using time.sleep(seconds)"
   ]
  },
  {
   "cell_type": "code",
   "execution_count": null,
   "metadata": {},
   "outputs": [],
   "source": [
    "import random\n",
    "# To select a random phrase from the set of phrases"
   ]
  },
  {
   "cell_type": "markdown",
   "metadata": {},
   "source": [
    "### These are the 3 lists which are the heart of the Hangman game."
   ]
  },
  {
   "cell_type": "code",
   "execution_count": null,
   "metadata": {},
   "outputs": [],
   "source": [
    "phrases = [\"This is a phrase\", \"I live on Earth\", \"I live on Mars\", \"Chocolate\", \"This one's easy\"]\n",
    "guessedCorrect = []\n",
    "guessedWrong   = []"
   ]
  },
  {
   "cell_type": "code",
   "execution_count": null,
   "metadata": {},
   "outputs": [],
   "source": [
    "phrase = random.choice(phrases)\n",
    "# We choose a random phrase."
   ]
  },
  {
   "cell_type": "markdown",
   "metadata": {},
   "source": [
    "### This function prints the required game data on every iteration of the main for loop."
   ]
  },
  {
   "cell_type": "code",
   "execution_count": null,
   "metadata": {},
   "outputs": [],
   "source": [
    "def PrintData(guessedCorrect, guessedWrong, phrase, chances):\n",
    "    time.sleep(3)\n",
    "    print(f\"Chances Remaining:\\t{chances}\")\n",
    "    print(\"Wrong Guesses:\\t\", end=\"\")\n",
    "    for guess in guessedWrong:\n",
    "        print(guess, end=\" \")\n",
    "    print()\n",
    "    flag=1\n",
    "    for character in phrase:\n",
    "        if character in guessedCorrect or not character.isalnum():\n",
    "            print(character, end=\" \")\n",
    "        else:\n",
    "            print('_', end=\" \")\n",
    "    print()"
   ]
  },
  {
   "cell_type": "markdown",
   "metadata": {},
   "source": [
    "### This is where all the speech recognition magic goes on."
   ]
  },
  {
   "cell_type": "code",
   "execution_count": null,
   "metadata": {},
   "outputs": [],
   "source": [
    "r = sr.Recognizer()\n",
    "microphone = sr.Microphone()\n",
    "\n",
    "def getChoice():\n",
    "    with microphone as source:\n",
    "        audio = r.listen(source, timeout=None)\n",
    "    print(\"WAIT A MOMENT..\")\n",
    "    return r.recognize_google(audio)"
   ]
  },
  {
   "cell_type": "markdown",
   "metadata": {},
   "source": [
    "### This function is called after each guess by a user to check whether or not the user has guessed all the characters correctly."
   ]
  },
  {
   "cell_type": "code",
   "execution_count": null,
   "metadata": {},
   "outputs": [],
   "source": [
    "def isFinished(guessedCorrect, guessedWrong, phrase, chances):\n",
    "    flag=1\n",
    "    for character in phrase:\n",
    "        if character in guessedCorrect or not character.isalnum():\n",
    "            pass\n",
    "        else:\n",
    "            return False\n",
    "    else:\n",
    "        return True"
   ]
  },
  {
   "cell_type": "markdown",
   "metadata": {},
   "source": [
    "### This function seeks to calibrate the user's microphone on every iteration since the ambient noise may vary with time.\n",
    "### (More on this further)"
   ]
  },
  {
   "cell_type": "code",
   "execution_count": null,
   "metadata": {},
   "outputs": [],
   "source": [
    "def calibrate():\n",
    "     with sr.Microphone() as source:   \n",
    "         print(\"Please wait. Calibrating microphone...\")   \n",
    "         r.energy_threshold = 4000  \n",
    "         r.dynamic_energy_threshold = True \n",
    "            \n",
    "# With dynamic_energy_threshold set to 'True', the program will continuously try to re-adjust the energy threshold \n",
    "# to match the environment based on the ambient noise level at that time. Here, we have set the initial energy threshold\n",
    "# to a high value, and have set dynamic_energy_threshold to True. The program will gradually lower the threshold value \n",
    "# to a value that works with the current environment, and will keep updating it if the ambient noise levels changes."
   ]
  },
  {
   "cell_type": "markdown",
   "metadata": {},
   "source": [
    "## Running the following cell will run the game. Read the instructions mentioned at the top once more."
   ]
  },
  {
   "cell_type": "markdown",
   "metadata": {},
   "source": [
    "### 1. In the game you have to say a word that starts with the letter of your choice."
   ]
  },
  {
   "cell_type": "markdown",
   "metadata": {},
   "source": [
    "### 2. For example,"
   ]
  },
  {
   "cell_type": "markdown",
   "metadata": {},
   "source": [
    "###   Say Apple for A"
   ]
  },
  {
   "cell_type": "markdown",
   "metadata": {},
   "source": [
    "###    Ball for B"
   ]
  },
  {
   "cell_type": "markdown",
   "metadata": {},
   "source": [
    "###  Cat for C"
   ]
  },
  {
   "cell_type": "markdown",
   "metadata": {},
   "source": [
    "###    ..."
   ]
  },
  {
   "cell_type": "markdown",
   "metadata": {},
   "source": [
    "###    ..."
   ]
  },
  {
   "cell_type": "markdown",
   "metadata": {},
   "source": [
    "###    ..."
   ]
  },
  {
   "cell_type": "markdown",
   "metadata": {},
   "source": [
    "###    Zebra for Z."
   ]
  },
  {
   "cell_type": "markdown",
   "metadata": {},
   "source": [
    "## Remember that each interation will print the following details"
   ]
  },
  {
   "cell_type": "markdown",
   "metadata": {},
   "source": [
    "### 1. The chances that the user has remaining."
   ]
  },
  {
   "cell_type": "markdown",
   "metadata": {},
   "source": [
    "### 2. A list of guesses that the user guessed wrongly"
   ]
  },
  {
   "cell_type": "markdown",
   "metadata": {},
   "source": [
    "### 3. Letters that the user guessed correctly would be printed as they are. The unguessed letters of the phrase will be printed as underscores or _"
   ]
  },
  {
   "cell_type": "markdown",
   "metadata": {},
   "source": [
    "## Please read the instructions while the game is going on and there will be no problems."
   ]
  },
  {
   "cell_type": "code",
   "execution_count": null,
   "metadata": {},
   "outputs": [],
   "source": [
    "# LET'S START PLAYING!!!\n",
    "\n",
    "print(\"\\n\\n=========================THE GAME BEGINS=========================\\n\\n\")\n",
    "chances=4\n",
    "# 4 chances have been given to the user. Exhausting those before correclty guessing the phrase will result in a loss.\n",
    "\n",
    "while chances>0:\n",
    "    PrintData(guessedCorrect, guessedWrong, phrase, chances)\n",
    "    print(\"WAIT A MOMENT..\")\n",
    "\n",
    "    # While there is no reason for this function to be called again and again( a one time function call would do), I have\n",
    "    # observed that the performance and execution of the game drastically improve when this function is called multiple times.\n",
    "    # I do not know how, I do not know why. I would greatly appreciate any and all help in this domain:) \n",
    "    calibrate()\n",
    "    \n",
    "    time.sleep(3)\n",
    "    print(\"Say a word...(Say Over to quit)\")\n",
    "    \n",
    "    while True:\n",
    "        try:\n",
    "            guessWord = getChoice()\n",
    "            guess=guessWord[0]\n",
    "            break\n",
    "        \n",
    "        except:\n",
    "            print(\"Oops didn't catch that..(Maybe try another word)\")\n",
    "     \n",
    "    print(f\"\\nYou said {guessWord} and chose the letter {guess}\\n\")\n",
    "    if guessWord == \"over\":\n",
    "        print(\"Bye bye..\")\n",
    "        break\n",
    "    \n",
    "    # The user may choose any one among lowercase letters and uppercase letters and it will be counted \n",
    "    # so long as the phrase contains either the uppercase letter, the lowecase letter, uppercase form \n",
    "    # of the lowercase letter or the lowercase form of the uppercase letter.\n",
    "    ascii = ord(guess)\n",
    "    if ascii>90:\n",
    "        guessnew=chr(ord(guess)-32)\n",
    "        if guess in guessedCorrect or guessnew in guessedCorrect:\n",
    "            print(\"\\nYou already chose this letter remember?\\n\\n\")\n",
    "        elif guess in phrase or guessnew in phrase:\n",
    "            guessedCorrect.append(guess)\n",
    "            guessedCorrect.append(guessnew)\n",
    "            print(f\"\\n{guess} DOES indeed appear in the phrase. \\n\\n\")\n",
    "        elif guess in guessedWrong or guessnew in guessedWrong:\n",
    "            chances-=1\n",
    "            print(\"\\nYou already chose this letter before and were WRONG then too. \\n\\n\")\n",
    "        else:\n",
    "            guessedWrong.append(guess)\n",
    "            chances-=1\n",
    "            print(f\"\\n{guess} does NOT appear in the phrase. \\n\\n\")\n",
    "            \n",
    "    elif ascii<=90:\n",
    "        guessnew=chr(ord(guess)+32)\n",
    "        if guess in guessedCorrect or guessnew in guessedCorrect:\n",
    "            print(\"\\nYou already chose this letter remember?\\n\\n\")\n",
    "        elif guess in phrase or guessnew in phrase:\n",
    "            guessedCorrect.append(guess)\n",
    "            guessedCorrect.append(guessnew)\n",
    "            print(f\"\\n{guess} DOES indeed appear in the phrase. \\n\\n\")\n",
    "        elif guess in guessedWrong or guessnew in guessedWrong:\n",
    "            chances-=1\n",
    "            print(\"\\nYou already chose this letter before and were WRONG then too. \\n\\n\")\n",
    "        else:\n",
    "            guessedWrong.append(guess)\n",
    "            chances-=1\n",
    "            print(f\"\\n{guess} does NOT appear in the phrase. \\n\\n\")\n",
    "    # Checking whether or not the phrase has been completely guessed.    \n",
    "    if isFinished(guessedCorrect, guessedWrong, phrase, chances):\n",
    "        print(\"YOU WON THE GAME!! Run the whole notebook again to play again\")\n",
    "        break\n",
    "    print(\"=================================================================================\")\n",
    "\n",
    "else:\n",
    "    print(\"YOU LOST THE GAME :( Run the whole notebook again to play again.\")\n",
    "print(f\"The phrase was {phrase}\")"
   ]
  },
  {
   "cell_type": "code",
   "execution_count": null,
   "metadata": {},
   "outputs": [],
   "source": []
  },
  {
   "cell_type": "code",
   "execution_count": null,
   "metadata": {},
   "outputs": [],
   "source": []
  },
  {
   "cell_type": "code",
   "execution_count": null,
   "metadata": {},
   "outputs": [],
   "source": []
  }
 ],
 "metadata": {
  "kernelspec": {
   "display_name": "Python 3",
   "language": "python",
   "name": "python3"
  },
  "language_info": {
   "codemirror_mode": {
    "name": "ipython",
    "version": 3
   },
   "file_extension": ".py",
   "mimetype": "text/x-python",
   "name": "python",
   "nbconvert_exporter": "python",
   "pygments_lexer": "ipython3",
   "version": "3.7.4"
  }
 },
 "nbformat": 4,
 "nbformat_minor": 2
}
